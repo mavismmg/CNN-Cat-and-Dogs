{
 "cells": [
  {
   "cell_type": "code",
   "execution_count": 202,
   "id": "e4b96674",
   "metadata": {},
   "outputs": [],
   "source": [
    "import tensorflow.compat.v1 as tf \n",
    "from tensorflow.compat.v1.keras.preprocessing.image import ImageDataGenerator\n",
    "\n",
    "import matplotlib.pyplot as plt\n",
    "import matplotlib.image as mpimg\n",
    "\n",
    "import random\n",
    "import numpy as np\n",
    "\n",
    "from tensorflow.python.client import device_lib\n",
    "\n",
    "from tensorflow.compat.v1.keras.preprocessing import image\n",
    "\n",
    "from tensorflow.compat.v1.keras.optimizers import Adam"
   ]
  },
  {
   "cell_type": "code",
   "execution_count": 11,
   "id": "74851ac4",
   "metadata": {},
   "outputs": [],
   "source": [
    "def test_amd_gpu():\n",
    "    tf.enable_eager_execution(tf.ConfigProto(log_device_placement=True)) \n",
    "    print(tf.add([1.0, 2.0], [3.0, 4.0])) # Create two tensors for gpu test."
   ]
  },
  {
   "cell_type": "code",
   "execution_count": 12,
   "id": "c52ba329",
   "metadata": {},
   "outputs": [
    {
     "name": "stdout",
     "output_type": "stream",
     "text": [
      "tf.Tensor([4. 6.], shape=(2,), dtype=float32)\n"
     ]
    }
   ],
   "source": [
    "test_amd_gpu()"
   ]
  },
  {
   "cell_type": "code",
   "execution_count": 13,
   "id": "06a3161e",
   "metadata": {},
   "outputs": [],
   "source": [
    "def get_available_devices():\n",
    "    local_device_protos = device_lib.list_local_devices()\n",
    "    return [x.name for x in local_device_protos]"
   ]
  },
  {
   "cell_type": "code",
   "execution_count": 14,
   "id": "54beeb0c",
   "metadata": {},
   "outputs": [
    {
     "name": "stdout",
     "output_type": "stream",
     "text": [
      "['/device:CPU:0', '/device:DML:0']\n"
     ]
    }
   ],
   "source": [
    "print(get_available_devices()) # Return a list of devices we can use in the notbook."
   ]
  },
  {
   "cell_type": "code",
   "execution_count": 15,
   "id": "cff314a8",
   "metadata": {},
   "outputs": [
    {
     "data": {
      "text/plain": [
       "'1.15.5'"
      ]
     },
     "execution_count": 15,
     "metadata": {},
     "output_type": "execute_result"
    }
   ],
   "source": [
    "tf.__version__"
   ]
  },
  {
   "cell_type": "code",
   "execution_count": 19,
   "id": "1038f11e",
   "metadata": {},
   "outputs": [],
   "source": [
    "\"\"\"Generating a random number to visualize the images\"\"\"\n",
    "\n",
    "rand = random.randint(1, 100)"
   ]
  },
  {
   "cell_type": "code",
   "execution_count": 20,
   "id": "5e03e399",
   "metadata": {},
   "outputs": [
    {
     "data": {
      "image/png": "[encoded data removed]",
      "text/plain": [
       "<Figure size 432x288 with 2 Axes>"
      ]
     },
     "metadata": {
      "needs_background": "light"
     },
     "output_type": "display_data"
    }
   ],
   "source": [
    "\"\"\"Visualizing images that we are going to work on\"\"\"\n",
    "\n",
    "plt.subplot(3, 2, 1) # Define subplot 1 with dimension (3, 2) and pos 1.\n",
    "plt.title('Dog [Cachorro]', fontsize=10)\n",
    "plt.imshow(\n",
    "    mpimg.imread('training_set/dogs/dog.{rand}.jpg'.format(rand=rand))\n",
    "    # Importing dog images.\n",
    ")\n",
    "plt.axis('off') # Disabling axis from subplot 1.\n",
    "plt.subplot(3, 2, 2) # Define subplot 2 with dimension (3, 2) and pos 2.\n",
    "plt.title('Cat [Gato]', fontsize=10)\n",
    "plt.imshow(\n",
    "    mpimg.imread('training_set/cats/cat.{rand}.jpg'.format(rand=rand))\n",
    "    # Importing cat images.\n",
    ")\n",
    "plt.axis('off') # Disabling axis from subplot 2.\n",
    "plt.show()"
   ]
  },
  {
   "cell_type": "code",
   "execution_count": 21,
   "id": "33391e36",
   "metadata": {},
   "outputs": [
    {
     "name": "stdout",
     "output_type": "stream",
     "text": [
      "Image shape: (218, 199, 3) Color Depth: 255\n"
     ]
    }
   ],
   "source": [
    "\"\"\"Visualizing image shape and color depth\"\"\"\n",
    "\n",
    "print('Image shape:', (mpimg.imread(\n",
    "    'training_set/dogs/dog.{rand}.jpg'.format(rand=rand)).shape),\n",
    "      \n",
    "    'Color Depth:', mpimg.imread(\n",
    "    'training_set/dogs/dog.{rand}.jpg'.format(rand=rand)).max()\n",
    ")"
   ]
  },
  {
   "cell_type": "code",
   "execution_count": 207,
   "id": "550855e6",
   "metadata": {},
   "outputs": [],
   "source": [
    "train_datagen = ImageDataGenerator(\n",
    "    rescale=1./255, # Appling feature scaling.\n",
    "    shear_range=0.2, # Shear transformation.\n",
    "    zoom_range=0.2, # Zoom transformation.\n",
    "    horizontal_flip=True # Flipping image transformation.\n",
    ")"
   ]
  },
  {
   "cell_type": "code",
   "execution_count": 208,
   "id": "a44f9a5c",
   "metadata": {},
   "outputs": [],
   "source": [
    "train_dataPath = 'training_set/'"
   ]
  },
  {
   "cell_type": "code",
   "execution_count": 209,
   "id": "c5682ced",
   "metadata": {},
   "outputs": [
    {
     "name": "stdout",
     "output_type": "stream",
     "text": [
      "Found 8000 images belonging to 2 classes.\n"
     ]
    }
   ],
   "source": [
    "train_generator = train_datagen.flow_from_directory(\n",
    "    train_dataPath, # Get training directory.\n",
    "    target_size=(32, 32), # Resize target_size to train by 32x32.\n",
    "    batch_size=16, # Set 16 training samples.\n",
    "    class_mode='binary' # Binary for two classes, cats and dogs.\n",
    ")"
   ]
  },
  {
   "cell_type": "code",
   "execution_count": 210,
   "id": "1adfcdbf",
   "metadata": {},
   "outputs": [],
   "source": [
    "test_datagen = ImageDataGenerator(rescale=1./255) # Appling feature scaling."
   ]
  },
  {
   "cell_type": "code",
   "execution_count": 211,
   "id": "5cd3fafb",
   "metadata": {},
   "outputs": [],
   "source": [
    "test_dataPath = 'test_set/'"
   ]
  },
  {
   "cell_type": "code",
   "execution_count": 212,
   "id": "9753ad74",
   "metadata": {},
   "outputs": [
    {
     "name": "stdout",
     "output_type": "stream",
     "text": [
      "Found 2000 images belonging to 2 classes.\n"
     ]
    }
   ],
   "source": [
    "test_generator = test_datagen.flow_from_directory(\n",
    "    test_dataPath, # Get testing directory.\n",
    "    target_size=(32, 32), # Resize target_size to test by 32x32.\n",
    "    batch_size=16, # Set 16 training samples.\n",
    "    class_mode='binary' # Binary for two classes, cats and dogs.\n",
    ")"
   ]
  },
  {
   "cell_type": "code",
   "execution_count": 213,
   "id": "92e0d96c",
   "metadata": {},
   "outputs": [],
   "source": [
    "model = tf.keras.models.Sequential() # Inicializing Sequential model."
   ]
  },
  {
   "cell_type": "code",
   "execution_count": 214,
   "id": "4f1e499e",
   "metadata": {},
   "outputs": [
    {
     "name": "stdout",
     "output_type": "stream",
     "text": [
      "Executing op VarHandleOp in device /job:localhost/replica:0/task:0/device:DML:0\n",
      "Executing op VarHandleOp in device /job:localhost/replica:0/task:0/device:DML:0\n",
      "Executing op VarHandleOp in device /job:localhost/replica:0/task:0/device:DML:0\n"
     ]
    }
   ],
   "source": [
    "model.add(\n",
    "    tf.keras.layers.Conv2D(\n",
    "        filters=16, # Number of ouput filters in the convolution.\n",
    "        kernel_size=3, # Height and Width of the 2D convolution window.\n",
    "        activation='relu', # Activation function, set as relu.\n",
    "        input_shape=(32, 32, 3) # Desired input shape, matching target_size.\n",
    "    )\n",
    ")\n",
    "\n",
    "model.add(\n",
    "    tf.keras.layers.MaxPool2D(\n",
    "        pool_size=2, # Pooling window size. In this case (2, 2).\n",
    "        strides=2 # Move distance for each pool step.\n",
    "    )\n",
    ")\n",
    "\n",
    "model.add(\n",
    "    tf.keras.layers.Conv2D(\n",
    "        filters=16, # Number of ouput filters in the convolution.\n",
    "        kernel_size=3, # Height and Width of the 2D convolution window.\n",
    "        activation='relu' # Activation function, set as relu.\n",
    "    )\n",
    ")\n",
    "\n",
    "model.add(\n",
    "    tf.keras.layers.MaxPooling2D(\n",
    "        pool_size=2, # Pooling window size. In this case (2, 2).\n",
    "        strides=2 # Move distance for each pool step.\n",
    "    )\n",
    ")"
   ]
  },
  {
   "cell_type": "code",
   "execution_count": 215,
   "id": "ce9fb291",
   "metadata": {},
   "outputs": [],
   "source": [
    "model.add(\n",
    "    tf.keras.layers.Flatten() # Flattens the input.\n",
    ")"
   ]
  },
  {
   "cell_type": "code",
   "execution_count": 216,
   "id": "75066a5d",
   "metadata": {},
   "outputs": [
    {
     "name": "stdout",
     "output_type": "stream",
     "text": [
      "Executing op VarHandleOp in device /job:localhost/replica:0/task:0/device:DML:0\n"
     ]
    }
   ],
   "source": [
    "model.add(\n",
    "    tf.keras.layers.Dense(\n",
    "        units=64, # Output space dimension.\n",
    "        activation='relu'# Activation function, set as relu.\n",
    "    )\n",
    ")"
   ]
  },
  {
   "cell_type": "code",
   "execution_count": 217,
   "id": "9794323b",
   "metadata": {},
   "outputs": [
    {
     "name": "stdout",
     "output_type": "stream",
     "text": [
      "Executing op VarHandleOp in device /job:localhost/replica:0/task:0/device:DML:0\n"
     ]
    }
   ],
   "source": [
    "model.add(\n",
    "    tf.keras.layers.Dense(\n",
    "        units=1, # Output space dimension.\n",
    "        activation='sigmoid' # Activation function, set as sigmoid.\n",
    "    )\n",
    ")"
   ]
  },
  {
   "cell_type": "code",
   "execution_count": 218,
   "id": "5c30eb28",
   "metadata": {},
   "outputs": [],
   "source": [
    "model.compile(\n",
    "    optimizer=Adam(0.001),\n",
    "    loss='binary_crossentropy',\n",
    "    metrics=['accuracy']\n",
    ")"
   ]
  },
  {
   "cell_type": "code",
   "execution_count": 219,
   "id": "51a16675",
   "metadata": {},
   "outputs": [
    {
     "name": "stdout",
     "output_type": "stream",
     "text": [
      "Model: \"sequential_9\"\n",
      "_________________________________________________________________\n",
      "Layer (type)                 Output Shape              Param #   \n",
      "=================================================================\n",
      "conv2d_20 (Conv2D)           (None, 30, 30, 16)        448       \n",
      "_________________________________________________________________\n",
      "max_pooling2d_18 (MaxPooling (None, 15, 15, 16)        0         \n",
      "_________________________________________________________________\n",
      "conv2d_21 (Conv2D)           (None, 13, 13, 16)        2320      \n",
      "_________________________________________________________________\n",
      "max_pooling2d_19 (MaxPooling (None, 6, 6, 16)          0         \n",
      "_________________________________________________________________\n",
      "flatten_9 (Flatten)          (None, 576)               0         \n",
      "_________________________________________________________________\n",
      "dense_20 (Dense)             (None, 64)                36928     \n",
      "_________________________________________________________________\n",
      "dense_21 (Dense)             (None, 1)                 65        \n",
      "=================================================================\n",
      "Total params: 39,761\n",
      "Trainable params: 39,761\n",
      "Non-trainable params: 0\n",
      "_________________________________________________________________\n"
     ]
    }
   ],
   "source": [
    "model.summary()"
   ]
  },
  {
   "cell_type": "code",
   "execution_count": 220,
   "id": "db8e32fc",
   "metadata": {},
   "outputs": [
    {
     "name": "stdout",
     "output_type": "stream",
     "text": [
      "Epoch 1/25\n",
      "Executing op Sigmoid in device /job:localhost/replica:0/task:0/device:DML:0\n",
      "Executing op SigmoidGrad in device /job:localhost/replica:0/task:0/device:DML:0\n",
      "Executing op VarHandleOp in device /job:localhost/replica:0/task:0/device:DML:0\n",
      "Executing op VarHandleOp in device /job:localhost/replica:0/task:0/device:DML:0\n",
      "Executing op VarHandleOp in device /job:localhost/replica:0/task:0/device:DML:0\n",
      "Executing op VarHandleOp in device /job:localhost/replica:0/task:0/device:DML:0\n",
      "Executing op VarHandleOp in device /job:localhost/replica:0/task:0/device:DML:0\n",
      "Executing op VarHandleOp in device /job:localhost/replica:0/task:0/device:DML:0\n",
      "499/500 [============================>.] - ETA: 0s - loss: 0.6803 - acc: 0.5651Epoch 1/25\n",
      "500/500 [==============================] - 172s 345ms/step - loss: 0.6802 - acc: 0.5651 - val_loss: 0.6615 - val_acc: 0.5975\n",
      "Epoch 2/25\n",
      "499/500 [============================>.] - ETA: 0s - loss: 0.6420 - acc: 0.6281Epoch 1/25\n",
      "500/500 [==============================] - 98s 195ms/step - loss: 0.6420 - acc: 0.6283 - val_loss: 0.6144 - val_acc: 0.6750\n",
      "Epoch 3/25\n",
      "499/500 [============================>.] - ETA: 0s - loss: 0.6072 - acc: 0.6708Epoch 1/25\n",
      "500/500 [==============================] - 25s 51ms/step - loss: 0.6073 - acc: 0.6706 - val_loss: 0.5870 - val_acc: 0.7030\n",
      "Epoch 4/25\n",
      "498/500 [============================>.] - ETA: 0s - loss: 0.5814 - acc: 0.6923Epoch 1/25\n",
      "500/500 [==============================] - 25s 51ms/step - loss: 0.5810 - acc: 0.6929 - val_loss: 0.6088 - val_acc: 0.6705\n",
      "Epoch 5/25\n",
      "499/500 [============================>.] - ETA: 0s - loss: 0.5679 - acc: 0.7025Epoch 1/25\n",
      "500/500 [==============================] - 25s 51ms/step - loss: 0.5679 - acc: 0.7025 - val_loss: 0.5834 - val_acc: 0.6885\n",
      "Epoch 6/25\n",
      "499/500 [============================>.] - ETA: 0s - loss: 0.5556 - acc: 0.7143Epoch 1/25\n",
      "500/500 [==============================] - 30s 61ms/step - loss: 0.5556 - acc: 0.7144 - val_loss: 0.6278 - val_acc: 0.6760\n",
      "Epoch 7/25\n",
      "499/500 [============================>.] - ETA: 0s - loss: 0.5433 - acc: 0.7237Epoch 1/25\n",
      "500/500 [==============================] - 169s 338ms/step - loss: 0.5435 - acc: 0.7235 - val_loss: 0.5740 - val_acc: 0.6965\n",
      "Epoch 8/25\n",
      "498/500 [============================>.] - ETA: 0s - loss: 0.5317 - acc: 0.7265Epoch 1/25\n",
      "500/500 [==============================] - 29s 58ms/step - loss: 0.5316 - acc: 0.7266 - val_loss: 0.6631 - val_acc: 0.6280\n",
      "Epoch 9/25\n",
      "499/500 [============================>.] - ETA: 0s - loss: 0.5182 - acc: 0.7402Epoch 1/25\n",
      "500/500 [==============================] - 26s 51ms/step - loss: 0.5183 - acc: 0.7400 - val_loss: 0.5437 - val_acc: 0.7315\n",
      "Epoch 10/25\n",
      "498/500 [============================>.] - ETA: 0s - loss: 0.5111 - acc: 0.7449Epoch 1/25\n",
      "500/500 [==============================] - 25s 50ms/step - loss: 0.5103 - acc: 0.7454 - val_loss: 0.5639 - val_acc: 0.7160\n",
      "Epoch 11/25\n",
      "498/500 [============================>.] - ETA: 0s - loss: 0.5023 - acc: 0.7494Epoch 1/25\n",
      "500/500 [==============================] - 28s 56ms/step - loss: 0.5018 - acc: 0.7498 - val_loss: 0.5531 - val_acc: 0.7210\n",
      "Epoch 12/25\n",
      "499/500 [============================>.] - ETA: 0s - loss: 0.4997 - acc: 0.7550Epoch 1/25\n",
      "500/500 [==============================] - 89s 178ms/step - loss: 0.4996 - acc: 0.7550 - val_loss: 0.5315 - val_acc: 0.7320\n",
      "Epoch 13/25\n",
      "499/500 [============================>.] - ETA: 0s - loss: 0.4847 - acc: 0.7625Epoch 1/25\n",
      "500/500 [==============================] - 142s 284ms/step - loss: 0.4850 - acc: 0.7626 - val_loss: 0.5799 - val_acc: 0.7075\n",
      "Epoch 14/25\n",
      "499/500 [============================>.] - ETA: 0s - loss: 0.4833 - acc: 0.7606Epoch 1/25\n",
      "500/500 [==============================] - 62s 125ms/step - loss: 0.4835 - acc: 0.7609 - val_loss: 0.5246 - val_acc: 0.7440\n",
      "Epoch 15/25\n",
      "499/500 [============================>.] - ETA: 0s - loss: 0.4772 - acc: 0.7683Epoch 1/25\n",
      "500/500 [==============================] - 25s 51ms/step - loss: 0.4772 - acc: 0.7684 - val_loss: 0.5111 - val_acc: 0.7520\n",
      "Epoch 16/25\n",
      "499/500 [============================>.] - ETA: 0s - loss: 0.4710 - acc: 0.7738Epoch 1/25\n",
      "500/500 [==============================] - 26s 51ms/step - loss: 0.4708 - acc: 0.7740 - val_loss: 0.5326 - val_acc: 0.7315\n",
      "Epoch 17/25\n",
      "498/500 [============================>.] - ETA: 0s - loss: 0.4525 - acc: 0.7840Epoch 1/25\n",
      "500/500 [==============================] - 26s 53ms/step - loss: 0.4523 - acc: 0.7839 - val_loss: 0.5333 - val_acc: 0.7280\n",
      "Epoch 18/25\n",
      "499/500 [============================>.] - ETA: 0s - loss: 0.4573 - acc: 0.7824Epoch 1/25\n",
      "500/500 [==============================] - 27s 53ms/step - loss: 0.4572 - acc: 0.7824 - val_loss: 0.4986 - val_acc: 0.7565\n",
      "Epoch 19/25\n",
      "499/500 [============================>.] - ETA: 0s - loss: 0.4436 - acc: 0.7890Epoch 1/25\n",
      "500/500 [==============================] - 27s 53ms/step - loss: 0.4434 - acc: 0.7891 - val_loss: 0.5398 - val_acc: 0.7450\n",
      "Epoch 20/25\n",
      "498/500 [============================>.] - ETA: 0s - loss: 0.4405 - acc: 0.7900Epoch 1/25\n",
      "500/500 [==============================] - 25s 51ms/step - loss: 0.4405 - acc: 0.7898 - val_loss: 0.5380 - val_acc: 0.7345\n",
      "Epoch 21/25\n",
      "498/500 [============================>.] - ETA: 0s - loss: 0.4399 - acc: 0.7915Epoch 1/25\n",
      "500/500 [==============================] - 25s 50ms/step - loss: 0.4397 - acc: 0.7918 - val_loss: 0.4896 - val_acc: 0.7600\n",
      "Epoch 22/25\n",
      "499/500 [============================>.] - ETA: 0s - loss: 0.4252 - acc: 0.7990Epoch 1/25\n",
      "500/500 [==============================] - 25s 51ms/step - loss: 0.4251 - acc: 0.7991 - val_loss: 0.4921 - val_acc: 0.7660\n",
      "Epoch 23/25\n",
      "499/500 [============================>.] - ETA: 0s - loss: 0.4239 - acc: 0.8007Epoch 1/25\n",
      "500/500 [==============================] - 25s 50ms/step - loss: 0.4243 - acc: 0.8006 - val_loss: 0.5067 - val_acc: 0.7635\n",
      "Epoch 24/25\n",
      "499/500 [============================>.] - ETA: 0s - loss: 0.4184 - acc: 0.8034Epoch 1/25\n",
      "500/500 [==============================] - 25s 50ms/step - loss: 0.4181 - acc: 0.8036 - val_loss: 0.5050 - val_acc: 0.7600\n",
      "Epoch 25/25\n",
      "499/500 [============================>.] - ETA: 0s - loss: 0.4103 - acc: 0.8095Epoch 1/25\n",
      "500/500 [==============================] - 25s 51ms/step - loss: 0.4101 - acc: 0.8096 - val_loss: 0.5280 - val_acc: 0.7585\n"
     ]
    },
    {
     "data": {
      "text/plain": [
       "<tensorflow.python.keras.callbacks.History at 0x2497f96b5c8>"
      ]
     },
     "execution_count": 220,
     "metadata": {},
     "output_type": "execute_result"
    }
   ],
   "source": [
    "model.fit_generator(\n",
    "    generator=train_generator,\n",
    "    validation_data=test_generator,\n",
    "    epochs=25\n",
    ")"
   ]
  },
  {
   "cell_type": "code",
   "execution_count": 223,
   "id": "250407f0",
   "metadata": {},
   "outputs": [
    {
     "name": "stdout",
     "output_type": "stream",
     "text": [
      "Executing op Identity in device /job:localhost/replica:0/task:0/device:DML:0\n"
     ]
    }
   ],
   "source": [
    "model.save('CNN-model-76Acc.h5')"
   ]
  },
  {
   "cell_type": "code",
   "execution_count": 224,
   "id": "3fe79798",
   "metadata": {},
   "outputs": [],
   "source": [
    "img = image.load_img('single_prediction/cat_or_dog_1.jpg', \n",
    "                     target_size=(32, 32))\n",
    "img = image.img_to_array(img)\n",
    "img = np.expand_dims(img, axis=0)"
   ]
  },
  {
   "cell_type": "code",
   "execution_count": 231,
   "id": "8c03757c",
   "metadata": {},
   "outputs": [
    {
     "data": {
      "text/plain": [
       "(-0.5, 959.5, 719.5, -0.5)"
      ]
     },
     "execution_count": 231,
     "metadata": {},
     "output_type": "execute_result"
    },
    {
     "data": {
      "image/png": "[encoded data removed]",
      "text/plain": [
       "<Figure size 432x288 with 1 Axes>"
      ]
     },
     "metadata": {
      "needs_background": "light"
     },
     "output_type": "display_data"
    }
   ],
   "source": [
    "plt.subplot(3, 2, 1) # Define subplot 1 with dimension (3, 2) and pos 1.\n",
    "plt.imshow(\n",
    "    mpimg.imread('single_prediction/cat_or_dog_1.jpg')\n",
    "    # Importing dog images.\n",
    ")\n",
    "plt.axis('off') # Disabling axis from subplot 1."
   ]
  },
  {
   "cell_type": "code",
   "execution_count": null,
   "id": "31f65cef",
   "metadata": {},
   "outputs": [],
   "source": [
    "prediction = model.predict(img)"
   ]
  },
  {
   "cell_type": "code",
   "execution_count": 233,
   "id": "6e4cc944",
   "metadata": {},
   "outputs": [
    {
     "name": "stdout",
     "output_type": "stream",
     "text": [
      "Dog [Cachorro]\n"
     ]
    }
   ],
   "source": [
    "train_generator.class_indices\n",
    "\n",
    "print('Dog [Cachorro]') if prediction[0][0] > 0.5 else print('Gato [Cat]')"
   ]
  }
 ],
 "metadata": {
  "kernelspec": {
   "display_name": "Python 3 (ipykernel)",
   "language": "python",
   "name": "python3"
  },
  "language_info": {
   "codemirror_mode": {
    "name": "ipython",
    "version": 3
   },
   "file_extension": ".py",
   "mimetype": "text/x-python",
   "name": "python",
   "nbconvert_exporter": "python",
   "pygments_lexer": "ipython3",
   "version": "3.7.11"
  }
 },
 "nbformat": 4,
 "nbformat_minor": 5
}
